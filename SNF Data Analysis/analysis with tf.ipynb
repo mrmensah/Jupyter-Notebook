{
 "cells": [
  {
   "cell_type": "code",
   "execution_count": 1,
   "id": "d6962169",
   "metadata": {},
   "outputs": [],
   "source": [
    "import tensorflow as tf\n",
    "from tensorflow import keras\n",
    "import pandas as pd\n",
    "from sklearn.model_selection import train_test_split"
   ]
  },
  {
   "cell_type": "code",
   "execution_count": 2,
   "id": "1e14d536",
   "metadata": {},
   "outputs": [],
   "source": [
    "# Importing the dataset\n",
    "data = pd.read_csv('data.csv')\n",
    "\n",
    "# Removing the year\n",
    "data = data.drop('Year', axis='columns')"
   ]
  },
  {
   "cell_type": "code",
   "execution_count": 4,
   "id": "38aada97",
   "metadata": {},
   "outputs": [
    {
     "data": {
      "text/html": [
       "<div>\n",
       "<style scoped>\n",
       "    .dataframe tbody tr th:only-of-type {\n",
       "        vertical-align: middle;\n",
       "    }\n",
       "\n",
       "    .dataframe tbody tr th {\n",
       "        vertical-align: top;\n",
       "    }\n",
       "\n",
       "    .dataframe thead th {\n",
       "        text-align: right;\n",
       "    }\n",
       "</style>\n",
       "<table border=\"1\" class=\"dataframe\">\n",
       "  <thead>\n",
       "    <tr style=\"text-align: right;\">\n",
       "      <th></th>\n",
       "      <th>Purchases (GWh)</th>\n",
       "      <th>losses %</th>\n",
       "      <th>GDP per Capita</th>\n",
       "      <th>Customers</th>\n",
       "      <th>Informal sector (%)</th>\n",
       "      <th>price (cedi)</th>\n",
       "      <th>price ($)</th>\n",
       "      <th>Installed Capacity (MW)</th>\n",
       "      <th>reserve margin (MW)</th>\n",
       "      <th>Suppressed demand</th>\n",
       "    </tr>\n",
       "  </thead>\n",
       "  <tbody>\n",
       "    <tr>\n",
       "      <th>0</th>\n",
       "      <td>4319</td>\n",
       "      <td>27.23</td>\n",
       "      <td>548.258047</td>\n",
       "      <td>932598</td>\n",
       "      <td>9.87344</td>\n",
       "      <td>0.017</td>\n",
       "      <td>0.024</td>\n",
       "      <td>1652</td>\n",
       "      <td>254.853658</td>\n",
       "      <td>6889</td>\n",
       "    </tr>\n",
       "    <tr>\n",
       "      <th>1</th>\n",
       "      <td>4530</td>\n",
       "      <td>26.47</td>\n",
       "      <td>570.639605</td>\n",
       "      <td>1022847</td>\n",
       "      <td>11.00198</td>\n",
       "      <td>0.034</td>\n",
       "      <td>0.047</td>\n",
       "      <td>1652</td>\n",
       "      <td>261.219512</td>\n",
       "      <td>7128</td>\n",
       "    </tr>\n",
       "    <tr>\n",
       "      <th>2</th>\n",
       "      <td>4709</td>\n",
       "      <td>26.42</td>\n",
       "      <td>646.038719</td>\n",
       "      <td>1109357</td>\n",
       "      <td>8.71163</td>\n",
       "      <td>0.065</td>\n",
       "      <td>0.077</td>\n",
       "      <td>1652</td>\n",
       "      <td>269.341463</td>\n",
       "      <td>6773</td>\n",
       "    </tr>\n",
       "    <tr>\n",
       "      <th>3</th>\n",
       "      <td>4922</td>\n",
       "      <td>26.33</td>\n",
       "      <td>780.267565</td>\n",
       "      <td>1245935</td>\n",
       "      <td>3.04414</td>\n",
       "      <td>0.071</td>\n",
       "      <td>0.080</td>\n",
       "      <td>1652</td>\n",
       "      <td>249.146342</td>\n",
       "      <td>5187</td>\n",
       "    </tr>\n",
       "    <tr>\n",
       "      <th>4</th>\n",
       "      <td>5291</td>\n",
       "      <td>27.01</td>\n",
       "      <td>885.637507</td>\n",
       "      <td>1400258</td>\n",
       "      <td>17.07084</td>\n",
       "      <td>0.074</td>\n",
       "      <td>0.082</td>\n",
       "      <td>1730</td>\n",
       "      <td>230.268293</td>\n",
       "      <td>5299</td>\n",
       "    </tr>\n",
       "  </tbody>\n",
       "</table>\n",
       "</div>"
      ],
      "text/plain": [
       "   Purchases (GWh)  losses %  GDP per Capita  Customers  Informal sector (%)  \\\n",
       "0             4319     27.23      548.258047     932598              9.87344   \n",
       "1             4530     26.47      570.639605    1022847             11.00198   \n",
       "2             4709     26.42      646.038719    1109357              8.71163   \n",
       "3             4922     26.33      780.267565    1245935              3.04414   \n",
       "4             5291     27.01      885.637507    1400258             17.07084   \n",
       "\n",
       "   price (cedi)  price ($)  Installed Capacity (MW)  reserve margin (MW)  \\\n",
       "0         0.017      0.024                     1652           254.853658   \n",
       "1         0.034      0.047                     1652           261.219512   \n",
       "2         0.065      0.077                     1652           269.341463   \n",
       "3         0.071      0.080                     1652           249.146342   \n",
       "4         0.074      0.082                     1730           230.268293   \n",
       "\n",
       "   Suppressed demand  \n",
       "0               6889  \n",
       "1               7128  \n",
       "2               6773  \n",
       "3               5187  \n",
       "4               5299  "
      ]
     },
     "execution_count": 4,
     "metadata": {},
     "output_type": "execute_result"
    }
   ],
   "source": [
    "data.head()"
   ]
  },
  {
   "cell_type": "code",
   "execution_count": 5,
   "id": "5154d1a1",
   "metadata": {},
   "outputs": [],
   "source": [
    "# Splitting ghe data into independent and dependent variables\n",
    "X = data.iloc[:, :-1].values\n",
    "y = data.iloc[:, 9].values\n",
    "\n",
    "# Splitting the data into training and test sets\n",
    "X_train, X_test, y_train, y_test = train_test_split(X, y, random_state=1)"
   ]
  },
  {
   "cell_type": "code",
   "execution_count": 6,
   "id": "06f33a68",
   "metadata": {},
   "outputs": [
    {
     "data": {
      "text/plain": [
       "array([[8.65900000e+03, 2.32500000e+01, 1.79660108e+03, 4.07805500e+06,\n",
       "        2.88045700e+01, 5.41000000e-01, 1.47000000e-01, 3.65600000e+03,\n",
       "        4.24317073e+02],\n",
       "       [7.40600000e+03, 2.88800000e+01, 1.71864704e+03, 2.46277100e+06,\n",
       "        2.60412000e+01, 2.11000000e-01, 1.45000000e-01, 2.16500000e+03,\n",
       "        3.30585366e+02],\n",
       "       [4.92200000e+03, 2.63300000e+01, 7.80267565e+02, 1.24593500e+06,\n",
       "        3.04414000e+00, 7.10000000e-02, 8.00000000e-02, 1.65200000e+03,\n",
       "        2.49146342e+02],\n",
       "       [1.23790000e+04, 2.47300000e+01, 2.26011345e+03, 4.39594500e+06,\n",
       "        3.89521800e+01, 7.05000000e-01, 1.54000000e-01, 4.88900000e+03,\n",
       "        5.54268293e+02],\n",
       "       [1.11650000e+04, 2.28000000e+01, 2.07417544e+03, 4.11666200e+06,\n",
       "        4.72858900e+01, 7.98000000e-01, 1.83000000e-01, 4.38800000e+03,\n",
       "        4.81170732e+02],\n",
       "       [9.36800000e+03, 2.50500000e+01, 2.01006151e+03, 3.57172700e+06,\n",
       "        1.63547700e+01, 4.64000000e-01, 1.45000000e-01, 2.83100000e+03,\n",
       "        4.32439024e+02]])"
      ]
     },
     "execution_count": 6,
     "metadata": {},
     "output_type": "execute_result"
    }
   ],
   "source": [
    "X_test"
   ]
  },
  {
   "cell_type": "code",
   "execution_count": 7,
   "id": "3d021fe8",
   "metadata": {},
   "outputs": [
    {
     "data": {
      "text/plain": [
       "array([12528,  5299,  6773,  7224,  6270,  7128, 10583,  6889, 16531,\n",
       "       15232,  7454,  7219,  9258,  9187,  5932], dtype=int64)"
      ]
     },
     "execution_count": 7,
     "metadata": {},
     "output_type": "execute_result"
    }
   ],
   "source": [
    "y_train"
   ]
  },
  {
   "cell_type": "code",
   "execution_count": 8,
   "id": "5abf38f4",
   "metadata": {},
   "outputs": [],
   "source": [
    "# Scaling the dataset\n",
    "from sklearn.preprocessing import StandardScaler\n",
    "scaler = StandardScaler()\n",
    "scaler.fit(X_train)\n",
    "X_train = scaler.transform(X_train)\n",
    "X_test = scaler.transform(X_test)"
   ]
  },
  {
   "cell_type": "code",
   "execution_count": 9,
   "id": "a61ec875",
   "metadata": {},
   "outputs": [
    {
     "data": {
      "text/plain": [
       "(6, 9)"
      ]
     },
     "execution_count": 9,
     "metadata": {},
     "output_type": "execute_result"
    }
   ],
   "source": [
    "X_test.shape"
   ]
  },
  {
   "cell_type": "code",
   "execution_count": 10,
   "id": "bb09b51f",
   "metadata": {},
   "outputs": [
    {
     "data": {
      "text/plain": [
       "(15, 9)"
      ]
     },
     "execution_count": 10,
     "metadata": {},
     "output_type": "execute_result"
    }
   ],
   "source": [
    "X_train.shape"
   ]
  },
  {
   "cell_type": "code",
   "execution_count": 11,
   "id": "d7b24af4",
   "metadata": {},
   "outputs": [],
   "source": [
    "model = tf.keras.models.Sequential([\n",
    "    tf.keras.layers.Dense(64, activation='relu'),\n",
    "    tf.keras.layers.Dense(64, activation='relu'),\n",
    "    tf.keras.layers.Dense(1)\n",
    "])"
   ]
  },
  {
   "cell_type": "code",
   "execution_count": 12,
   "id": "5c3d57b0",
   "metadata": {},
   "outputs": [],
   "source": [
    "model.compile(loss='mean_absolute_error',\n",
    "              optimizer=tf.keras.optimizers.Adam(0.001),\n",
    "             metrics=['accuracy'])"
   ]
  },
  {
   "cell_type": "code",
   "execution_count": 13,
   "id": "2064b143",
   "metadata": {
    "scrolled": true
   },
   "outputs": [
    {
     "name": "stdout",
     "output_type": "stream",
     "text": [
      "1/1 [==============================] - 1s 646ms/step - loss: 8900.9893 - accuracy: 0.0000e+00\n"
     ]
    },
    {
     "data": {
      "text/plain": [
       "<keras.callbacks.History at 0x1f5e613b2e0>"
      ]
     },
     "execution_count": 13,
     "metadata": {},
     "output_type": "execute_result"
    }
   ],
   "source": [
    "model.fit(X_train, y_train, epochs=1)"
   ]
  },
  {
   "cell_type": "code",
   "execution_count": 14,
   "id": "6c11cf5d",
   "metadata": {},
   "outputs": [
    {
     "name": "stdout",
     "output_type": "stream",
     "text": [
      "1/1 [==============================] - 0s 202ms/step - loss: 10377.2881 - accuracy: 0.0000e+00\n"
     ]
    },
    {
     "data": {
      "text/plain": [
       "[10377.2880859375, 0.0]"
      ]
     },
     "execution_count": 14,
     "metadata": {},
     "output_type": "execute_result"
    }
   ],
   "source": [
    "model.evaluate(X_test, y_test)"
   ]
  },
  {
   "cell_type": "code",
   "execution_count": 15,
   "id": "49c2dc37",
   "metadata": {},
   "outputs": [
    {
     "name": "stdout",
     "output_type": "stream",
     "text": [
      "1/1 [==============================] - 0s 88ms/step\n"
     ]
    },
    {
     "data": {
      "text/plain": [
       "array([[-0.44879264],\n",
       "       [-0.42240682],\n",
       "       [-0.7233662 ],\n",
       "       [-0.41001546],\n",
       "       [-0.53524435],\n",
       "       [-0.18602668]], dtype=float32)"
      ]
     },
     "execution_count": 15,
     "metadata": {},
     "output_type": "execute_result"
    }
   ],
   "source": [
    "model.predict(X_test)"
   ]
  },
  {
   "cell_type": "code",
   "execution_count": 16,
   "id": "0c4c3c11",
   "metadata": {
    "scrolled": true
   },
   "outputs": [
    {
     "data": {
      "text/plain": [
       "array([10625,  8317,  5187, 14401, 13036, 10695], dtype=int64)"
      ]
     },
     "execution_count": 16,
     "metadata": {},
     "output_type": "execute_result"
    }
   ],
   "source": [
    "y_test"
   ]
  },
  {
   "cell_type": "code",
   "execution_count": null,
   "id": "10f19a3e",
   "metadata": {},
   "outputs": [],
   "source": []
  }
 ],
 "metadata": {
  "kernelspec": {
   "display_name": "Python 3 (ipykernel)",
   "language": "python",
   "name": "python3"
  },
  "language_info": {
   "codemirror_mode": {
    "name": "ipython",
    "version": 3
   },
   "file_extension": ".py",
   "mimetype": "text/x-python",
   "name": "python",
   "nbconvert_exporter": "python",
   "pygments_lexer": "ipython3",
   "version": "3.9.12"
  }
 },
 "nbformat": 4,
 "nbformat_minor": 5
}

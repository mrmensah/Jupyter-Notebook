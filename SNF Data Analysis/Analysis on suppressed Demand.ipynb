{
 "cells": [
  {
   "cell_type": "code",
   "execution_count": 1,
   "id": "6fb01790",
   "metadata": {},
   "outputs": [],
   "source": [
    "# Importing the libraries\n",
    "import numpy as np\n",
    "import pandas as pd\n",
    "import matplotlib.pyplot as plt\n",
    "import seaborn as sns\n",
    "from scipy import stats\n",
    "import math\n",
    "\n",
    "# Making NumPy printouts easier to read.\n",
    "np.set_printoptions(precision=3, suppress=True)"
   ]
  },
  {
   "cell_type": "code",
   "execution_count": 2,
   "id": "6a32e2e4",
   "metadata": {},
   "outputs": [],
   "source": [
    "# Importing the dataset\n",
    "dataset = pd.read_csv('data.csv')\n",
    "\n",
    "# Removing the year\n",
    "dataset = dataset.drop('Year', axis='columns')"
   ]
  },
  {
   "cell_type": "code",
   "execution_count": 3,
   "id": "257272e6",
   "metadata": {},
   "outputs": [
    {
     "data": {
      "text/html": [
       "<div>\n",
       "<style scoped>\n",
       "    .dataframe tbody tr th:only-of-type {\n",
       "        vertical-align: middle;\n",
       "    }\n",
       "\n",
       "    .dataframe tbody tr th {\n",
       "        vertical-align: top;\n",
       "    }\n",
       "\n",
       "    .dataframe thead th {\n",
       "        text-align: right;\n",
       "    }\n",
       "</style>\n",
       "<table border=\"1\" class=\"dataframe\">\n",
       "  <thead>\n",
       "    <tr style=\"text-align: right;\">\n",
       "      <th></th>\n",
       "      <th>Purchases (GWh)</th>\n",
       "      <th>losses %</th>\n",
       "      <th>GDP per Capita</th>\n",
       "      <th>Customers</th>\n",
       "      <th>Informal sector (%)</th>\n",
       "      <th>price (cedi)</th>\n",
       "      <th>price ($)</th>\n",
       "      <th>Installed Capacity (MW)</th>\n",
       "      <th>reserve margin (MW)</th>\n",
       "      <th>Suppressed demand</th>\n",
       "    </tr>\n",
       "  </thead>\n",
       "  <tbody>\n",
       "    <tr>\n",
       "      <th>count</th>\n",
       "      <td>21.000000</td>\n",
       "      <td>21.000000</td>\n",
       "      <td>21.000000</td>\n",
       "      <td>2.100000e+01</td>\n",
       "      <td>21.000000</td>\n",
       "      <td>21.000000</td>\n",
       "      <td>21.000000</td>\n",
       "      <td>21.000000</td>\n",
       "      <td>21.000000</td>\n",
       "      <td>21.000000</td>\n",
       "    </tr>\n",
       "    <tr>\n",
       "      <th>mean</th>\n",
       "      <td>7954.904762</td>\n",
       "      <td>25.680476</td>\n",
       "      <td>1571.919886</td>\n",
       "      <td>2.684227e+06</td>\n",
       "      <td>24.022997</td>\n",
       "      <td>0.313714</td>\n",
       "      <td>0.118762</td>\n",
       "      <td>2721.380952</td>\n",
       "      <td>376.087108</td>\n",
       "      <td>9322.285714</td>\n",
       "    </tr>\n",
       "    <tr>\n",
       "      <th>std</th>\n",
       "      <td>3040.214711</td>\n",
       "      <td>1.715513</td>\n",
       "      <td>620.628489</td>\n",
       "      <td>1.338036e+06</td>\n",
       "      <td>11.554292</td>\n",
       "      <td>0.286936</td>\n",
       "      <td>0.045504</td>\n",
       "      <td>1268.499171</td>\n",
       "      <td>125.718088</td>\n",
       "      <td>3366.046481</td>\n",
       "    </tr>\n",
       "    <tr>\n",
       "      <th>min</th>\n",
       "      <td>4319.000000</td>\n",
       "      <td>22.800000</td>\n",
       "      <td>548.258047</td>\n",
       "      <td>9.325980e+05</td>\n",
       "      <td>3.044140</td>\n",
       "      <td>0.017000</td>\n",
       "      <td>0.024000</td>\n",
       "      <td>1652.000000</td>\n",
       "      <td>230.268293</td>\n",
       "      <td>5187.000000</td>\n",
       "    </tr>\n",
       "    <tr>\n",
       "      <th>25%</th>\n",
       "      <td>5546.000000</td>\n",
       "      <td>24.720000</td>\n",
       "      <td>1043.557511</td>\n",
       "      <td>1.526736e+06</td>\n",
       "      <td>16.354770</td>\n",
       "      <td>0.074000</td>\n",
       "      <td>0.082000</td>\n",
       "      <td>1730.000000</td>\n",
       "      <td>279.658537</td>\n",
       "      <td>6889.000000</td>\n",
       "    </tr>\n",
       "    <tr>\n",
       "      <th>50%</th>\n",
       "      <td>7406.000000</td>\n",
       "      <td>26.040000</td>\n",
       "      <td>1718.647038</td>\n",
       "      <td>2.462771e+06</td>\n",
       "      <td>25.134660</td>\n",
       "      <td>0.211000</td>\n",
       "      <td>0.124000</td>\n",
       "      <td>2165.000000</td>\n",
       "      <td>330.585366</td>\n",
       "      <td>8317.000000</td>\n",
       "    </tr>\n",
       "    <tr>\n",
       "      <th>75%</th>\n",
       "      <td>9416.000000</td>\n",
       "      <td>26.470000</td>\n",
       "      <td>2074.175443</td>\n",
       "      <td>4.078055e+06</td>\n",
       "      <td>29.511550</td>\n",
       "      <td>0.541000</td>\n",
       "      <td>0.147000</td>\n",
       "      <td>3656.000000</td>\n",
       "      <td>432.439024</td>\n",
       "      <td>10695.000000</td>\n",
       "    </tr>\n",
       "    <tr>\n",
       "      <th>max</th>\n",
       "      <td>14524.000000</td>\n",
       "      <td>29.420000</td>\n",
       "      <td>2394.137133</td>\n",
       "      <td>5.011284e+06</td>\n",
       "      <td>47.285890</td>\n",
       "      <td>0.817000</td>\n",
       "      <td>0.210000</td>\n",
       "      <td>5288.000000</td>\n",
       "      <td>678.292683</td>\n",
       "      <td>16531.000000</td>\n",
       "    </tr>\n",
       "  </tbody>\n",
       "</table>\n",
       "</div>"
      ],
      "text/plain": [
       "       Purchases (GWh)   losses %  GDP per Capita     Customers  \\\n",
       "count        21.000000  21.000000       21.000000  2.100000e+01   \n",
       "mean       7954.904762  25.680476     1571.919886  2.684227e+06   \n",
       "std        3040.214711   1.715513      620.628489  1.338036e+06   \n",
       "min        4319.000000  22.800000      548.258047  9.325980e+05   \n",
       "25%        5546.000000  24.720000     1043.557511  1.526736e+06   \n",
       "50%        7406.000000  26.040000     1718.647038  2.462771e+06   \n",
       "75%        9416.000000  26.470000     2074.175443  4.078055e+06   \n",
       "max       14524.000000  29.420000     2394.137133  5.011284e+06   \n",
       "\n",
       "       Informal sector (%)  price (cedi)  price ($)  Installed Capacity (MW)  \\\n",
       "count            21.000000     21.000000  21.000000                21.000000   \n",
       "mean             24.022997      0.313714   0.118762              2721.380952   \n",
       "std              11.554292      0.286936   0.045504              1268.499171   \n",
       "min               3.044140      0.017000   0.024000              1652.000000   \n",
       "25%              16.354770      0.074000   0.082000              1730.000000   \n",
       "50%              25.134660      0.211000   0.124000              2165.000000   \n",
       "75%              29.511550      0.541000   0.147000              3656.000000   \n",
       "max              47.285890      0.817000   0.210000              5288.000000   \n",
       "\n",
       "       reserve margin (MW)  Suppressed demand  \n",
       "count            21.000000          21.000000  \n",
       "mean            376.087108        9322.285714  \n",
       "std             125.718088        3366.046481  \n",
       "min             230.268293        5187.000000  \n",
       "25%             279.658537        6889.000000  \n",
       "50%             330.585366        8317.000000  \n",
       "75%             432.439024       10695.000000  \n",
       "max             678.292683       16531.000000  "
      ]
     },
     "execution_count": 3,
     "metadata": {},
     "output_type": "execute_result"
    }
   ],
   "source": [
    "dataset.describe()"
   ]
  },
  {
   "cell_type": "code",
   "execution_count": 4,
   "id": "6f191af0",
   "metadata": {
    "scrolled": false
   },
   "outputs": [
    {
     "data": {
      "image/png": "[encoded data removed]",
      "text/plain": [
       "<Figure size 864x720 with 2 Axes>"
      ]
     },
     "metadata": {
      "needs_background": "light"
     },
     "output_type": "display_data"
    }
   ],
   "source": [
    "\"\"\" \n",
    "Checking the dataset for distribution of the data using \n",
    "the filter method (Pearson correlation)\n",
    "Only \n",
    "\"\"\"\n",
    "\n",
    "plt.figure(figsize=(12,10))\n",
    "cor = dataset.corr()\n",
    "sns.heatmap(cor, annot=True, cmap=plt.cm.Reds)\n",
    "plt.show()"
   ]
  },
  {
   "cell_type": "code",
   "execution_count": 5,
   "id": "2681c30c",
   "metadata": {},
   "outputs": [
    {
     "data": {
      "text/plain": [
       "Purchases (GWh)            0.976194\n",
       "GDP per Capita             0.794083\n",
       "Customers                  0.949877\n",
       "Informal sector (%)        0.724808\n",
       "price (cedi)               0.935968\n",
       "price ($)                  0.684988\n",
       "Installed Capacity (MW)    0.968200\n",
       "reserve margin (MW)        0.985001\n",
       "Suppressed demand          1.000000\n",
       "Name: Suppressed demand, dtype: float64"
      ]
     },
     "execution_count": 5,
     "metadata": {},
     "output_type": "execute_result"
    }
   ],
   "source": [
    "# Correlation with output variable\n",
    "cor_target = abs(cor[\"Suppressed demand\"])\n",
    "\n",
    "# Selecting highly correlated features\n",
    "relevant_features = cor_target[cor_target>0.5]\n",
    "relevant_features"
   ]
  },
  {
   "cell_type": "code",
   "execution_count": 7,
   "id": "862838f2",
   "metadata": {},
   "outputs": [
    {
     "data": {
      "text/html": [
       "<div>\n",
       "<style scoped>\n",
       "    .dataframe tbody tr th:only-of-type {\n",
       "        vertical-align: middle;\n",
       "    }\n",
       "\n",
       "    .dataframe tbody tr th {\n",
       "        vertical-align: top;\n",
       "    }\n",
       "\n",
       "    .dataframe thead th {\n",
       "        text-align: right;\n",
       "    }\n",
       "</style>\n",
       "<table border=\"1\" class=\"dataframe\">\n",
       "  <thead>\n",
       "    <tr style=\"text-align: right;\">\n",
       "      <th></th>\n",
       "      <th>Purchases (GWh)</th>\n",
       "      <th>losses %</th>\n",
       "      <th>GDP per Capita</th>\n",
       "      <th>Customers</th>\n",
       "      <th>Informal sector (%)</th>\n",
       "      <th>price (cedi)</th>\n",
       "      <th>price ($)</th>\n",
       "      <th>Installed Capacity (MW)</th>\n",
       "      <th>reserve margin (MW)</th>\n",
       "      <th>Suppressed demand</th>\n",
       "    </tr>\n",
       "  </thead>\n",
       "  <tbody>\n",
       "    <tr>\n",
       "      <th>Purchases (GWh)</th>\n",
       "      <td>1.000000</td>\n",
       "      <td>-0.377047</td>\n",
       "      <td>0.866437</td>\n",
       "      <td>0.972162</td>\n",
       "      <td>0.759600</td>\n",
       "      <td>0.928484</td>\n",
       "      <td>0.745765</td>\n",
       "      <td>0.956843</td>\n",
       "      <td>0.985147</td>\n",
       "      <td>0.976194</td>\n",
       "    </tr>\n",
       "    <tr>\n",
       "      <th>losses %</th>\n",
       "      <td>-0.377047</td>\n",
       "      <td>1.000000</td>\n",
       "      <td>-0.364611</td>\n",
       "      <td>-0.450007</td>\n",
       "      <td>-0.301647</td>\n",
       "      <td>-0.498189</td>\n",
       "      <td>-0.374149</td>\n",
       "      <td>-0.464881</td>\n",
       "      <td>-0.377764</td>\n",
       "      <td>-0.390194</td>\n",
       "    </tr>\n",
       "    <tr>\n",
       "      <th>GDP per Capita</th>\n",
       "      <td>0.866437</td>\n",
       "      <td>-0.364611</td>\n",
       "      <td>1.000000</td>\n",
       "      <td>0.884798</td>\n",
       "      <td>0.769952</td>\n",
       "      <td>0.761322</td>\n",
       "      <td>0.869579</td>\n",
       "      <td>0.734043</td>\n",
       "      <td>0.806147</td>\n",
       "      <td>0.794083</td>\n",
       "    </tr>\n",
       "    <tr>\n",
       "      <th>Customers</th>\n",
       "      <td>0.972162</td>\n",
       "      <td>-0.450007</td>\n",
       "      <td>0.884798</td>\n",
       "      <td>1.000000</td>\n",
       "      <td>0.742113</td>\n",
       "      <td>0.953005</td>\n",
       "      <td>0.814842</td>\n",
       "      <td>0.941098</td>\n",
       "      <td>0.950449</td>\n",
       "      <td>0.949877</td>\n",
       "    </tr>\n",
       "    <tr>\n",
       "      <th>Informal sector (%)</th>\n",
       "      <td>0.759600</td>\n",
       "      <td>-0.301647</td>\n",
       "      <td>0.769952</td>\n",
       "      <td>0.742113</td>\n",
       "      <td>1.000000</td>\n",
       "      <td>0.668312</td>\n",
       "      <td>0.624957</td>\n",
       "      <td>0.714392</td>\n",
       "      <td>0.728317</td>\n",
       "      <td>0.724808</td>\n",
       "    </tr>\n",
       "    <tr>\n",
       "      <th>price (cedi)</th>\n",
       "      <td>0.928484</td>\n",
       "      <td>-0.498189</td>\n",
       "      <td>0.761322</td>\n",
       "      <td>0.953005</td>\n",
       "      <td>0.668312</td>\n",
       "      <td>1.000000</td>\n",
       "      <td>0.801045</td>\n",
       "      <td>0.950930</td>\n",
       "      <td>0.906401</td>\n",
       "      <td>0.935968</td>\n",
       "    </tr>\n",
       "    <tr>\n",
       "      <th>price ($)</th>\n",
       "      <td>0.745765</td>\n",
       "      <td>-0.374149</td>\n",
       "      <td>0.869579</td>\n",
       "      <td>0.814842</td>\n",
       "      <td>0.624957</td>\n",
       "      <td>0.801045</td>\n",
       "      <td>1.000000</td>\n",
       "      <td>0.655076</td>\n",
       "      <td>0.656199</td>\n",
       "      <td>0.684988</td>\n",
       "    </tr>\n",
       "    <tr>\n",
       "      <th>Installed Capacity (MW)</th>\n",
       "      <td>0.956843</td>\n",
       "      <td>-0.464881</td>\n",
       "      <td>0.734043</td>\n",
       "      <td>0.941098</td>\n",
       "      <td>0.714392</td>\n",
       "      <td>0.950930</td>\n",
       "      <td>0.655076</td>\n",
       "      <td>1.000000</td>\n",
       "      <td>0.964818</td>\n",
       "      <td>0.968200</td>\n",
       "    </tr>\n",
       "    <tr>\n",
       "      <th>reserve margin (MW)</th>\n",
       "      <td>0.985147</td>\n",
       "      <td>-0.377764</td>\n",
       "      <td>0.806147</td>\n",
       "      <td>0.950449</td>\n",
       "      <td>0.728317</td>\n",
       "      <td>0.906401</td>\n",
       "      <td>0.656199</td>\n",
       "      <td>0.964818</td>\n",
       "      <td>1.000000</td>\n",
       "      <td>0.985001</td>\n",
       "    </tr>\n",
       "    <tr>\n",
       "      <th>Suppressed demand</th>\n",
       "      <td>0.976194</td>\n",
       "      <td>-0.390194</td>\n",
       "      <td>0.794083</td>\n",
       "      <td>0.949877</td>\n",
       "      <td>0.724808</td>\n",
       "      <td>0.935968</td>\n",
       "      <td>0.684988</td>\n",
       "      <td>0.968200</td>\n",
       "      <td>0.985001</td>\n",
       "      <td>1.000000</td>\n",
       "    </tr>\n",
       "  </tbody>\n",
       "</table>\n",
       "</div>"
      ],
      "text/plain": [
       "                         Purchases (GWh)  losses %  GDP per Capita  Customers  \\\n",
       "Purchases (GWh)                 1.000000 -0.377047        0.866437   0.972162   \n",
       "losses %                       -0.377047  1.000000       -0.364611  -0.450007   \n",
       "GDP per Capita                  0.866437 -0.364611        1.000000   0.884798   \n",
       "Customers                       0.972162 -0.450007        0.884798   1.000000   \n",
       "Informal sector (%)             0.759600 -0.301647        0.769952   0.742113   \n",
       "price (cedi)                    0.928484 -0.498189        0.761322   0.953005   \n",
       "price ($)                       0.745765 -0.374149        0.869579   0.814842   \n",
       "Installed Capacity (MW)         0.956843 -0.464881        0.734043   0.941098   \n",
       "reserve margin (MW)             0.985147 -0.377764        0.806147   0.950449   \n",
       "Suppressed demand               0.976194 -0.390194        0.794083   0.949877   \n",
       "\n",
       "                         Informal sector (%)  price (cedi)  price ($)  \\\n",
       "Purchases (GWh)                     0.759600      0.928484   0.745765   \n",
       "losses %                           -0.301647     -0.498189  -0.374149   \n",
       "GDP per Capita                      0.769952      0.761322   0.869579   \n",
       "Customers                           0.742113      0.953005   0.814842   \n",
       "Informal sector (%)                 1.000000      0.668312   0.624957   \n",
       "price (cedi)                        0.668312      1.000000   0.801045   \n",
       "price ($)                           0.624957      0.801045   1.000000   \n",
       "Installed Capacity (MW)             0.714392      0.950930   0.655076   \n",
       "reserve margin (MW)                 0.728317      0.906401   0.656199   \n",
       "Suppressed demand                   0.724808      0.935968   0.684988   \n",
       "\n",
       "                         Installed Capacity (MW)  reserve margin (MW)  \\\n",
       "Purchases (GWh)                         0.956843             0.985147   \n",
       "losses %                               -0.464881            -0.377764   \n",
       "GDP per Capita                          0.734043             0.806147   \n",
       "Customers                               0.941098             0.950449   \n",
       "Informal sector (%)                     0.714392             0.728317   \n",
       "price (cedi)                            0.950930             0.906401   \n",
       "price ($)                               0.655076             0.656199   \n",
       "Installed Capacity (MW)                 1.000000             0.964818   \n",
       "reserve margin (MW)                     0.964818             1.000000   \n",
       "Suppressed demand                       0.968200             0.985001   \n",
       "\n",
       "                         Suppressed demand  \n",
       "Purchases (GWh)                   0.976194  \n",
       "losses %                         -0.390194  \n",
       "GDP per Capita                    0.794083  \n",
       "Customers                         0.949877  \n",
       "Informal sector (%)               0.724808  \n",
       "price (cedi)                      0.935968  \n",
       "price ($)                         0.684988  \n",
       "Installed Capacity (MW)           0.968200  \n",
       "reserve margin (MW)               0.985001  \n",
       "Suppressed demand                 1.000000  "
      ]
     },
     "execution_count": 7,
     "metadata": {},
     "output_type": "execute_result"
    }
   ],
   "source": [
    "dataset.corr()"
   ]
  },
  {
   "cell_type": "code",
   "execution_count": 9,
   "id": "c9bc15d6",
   "metadata": {},
   "outputs": [],
   "source": [
    "new_data = dataset.drop('losses %', axis='columns')"
   ]
  },
  {
   "cell_type": "code",
   "execution_count": 10,
   "id": "dd931f1e",
   "metadata": {},
   "outputs": [],
   "source": [
    "improved_data = new_data.drop('price ($)', axis='columns')"
   ]
  },
  {
   "cell_type": "code",
   "execution_count": 11,
   "id": "aed54811",
   "metadata": {},
   "outputs": [
    {
     "data": {
      "text/html": [
       "<div>\n",
       "<style scoped>\n",
       "    .dataframe tbody tr th:only-of-type {\n",
       "        vertical-align: middle;\n",
       "    }\n",
       "\n",
       "    .dataframe tbody tr th {\n",
       "        vertical-align: top;\n",
       "    }\n",
       "\n",
       "    .dataframe thead th {\n",
       "        text-align: right;\n",
       "    }\n",
       "</style>\n",
       "<table border=\"1\" class=\"dataframe\">\n",
       "  <thead>\n",
       "    <tr style=\"text-align: right;\">\n",
       "      <th></th>\n",
       "      <th>Purchases (GWh)</th>\n",
       "      <th>GDP per Capita</th>\n",
       "      <th>Customers</th>\n",
       "      <th>Informal sector (%)</th>\n",
       "      <th>price (cedi)</th>\n",
       "      <th>Installed Capacity (MW)</th>\n",
       "      <th>reserve margin (MW)</th>\n",
       "      <th>Suppressed demand</th>\n",
       "    </tr>\n",
       "  </thead>\n",
       "  <tbody>\n",
       "    <tr>\n",
       "      <th>0</th>\n",
       "      <td>4319</td>\n",
       "      <td>548.258047</td>\n",
       "      <td>932598</td>\n",
       "      <td>9.87344</td>\n",
       "      <td>0.017</td>\n",
       "      <td>1652</td>\n",
       "      <td>254.853658</td>\n",
       "      <td>6889</td>\n",
       "    </tr>\n",
       "    <tr>\n",
       "      <th>1</th>\n",
       "      <td>4530</td>\n",
       "      <td>570.639605</td>\n",
       "      <td>1022847</td>\n",
       "      <td>11.00198</td>\n",
       "      <td>0.034</td>\n",
       "      <td>1652</td>\n",
       "      <td>261.219512</td>\n",
       "      <td>7128</td>\n",
       "    </tr>\n",
       "    <tr>\n",
       "      <th>2</th>\n",
       "      <td>4709</td>\n",
       "      <td>646.038719</td>\n",
       "      <td>1109357</td>\n",
       "      <td>8.71163</td>\n",
       "      <td>0.065</td>\n",
       "      <td>1652</td>\n",
       "      <td>269.341463</td>\n",
       "      <td>6773</td>\n",
       "    </tr>\n",
       "    <tr>\n",
       "      <th>3</th>\n",
       "      <td>4922</td>\n",
       "      <td>780.267565</td>\n",
       "      <td>1245935</td>\n",
       "      <td>3.04414</td>\n",
       "      <td>0.071</td>\n",
       "      <td>1652</td>\n",
       "      <td>249.146342</td>\n",
       "      <td>5187</td>\n",
       "    </tr>\n",
       "    <tr>\n",
       "      <th>4</th>\n",
       "      <td>5291</td>\n",
       "      <td>885.637507</td>\n",
       "      <td>1400258</td>\n",
       "      <td>17.07084</td>\n",
       "      <td>0.074</td>\n",
       "      <td>1730</td>\n",
       "      <td>230.268293</td>\n",
       "      <td>5299</td>\n",
       "    </tr>\n",
       "    <tr>\n",
       "      <th>5</th>\n",
       "      <td>5546</td>\n",
       "      <td>1043.557511</td>\n",
       "      <td>1526736</td>\n",
       "      <td>23.43980</td>\n",
       "      <td>0.073</td>\n",
       "      <td>1730</td>\n",
       "      <td>290.853658</td>\n",
       "      <td>5932</td>\n",
       "    </tr>\n",
       "    <tr>\n",
       "      <th>6</th>\n",
       "      <td>5760</td>\n",
       "      <td>1207.207961</td>\n",
       "      <td>1643786</td>\n",
       "      <td>28.91935</td>\n",
       "      <td>0.078</td>\n",
       "      <td>1730</td>\n",
       "      <td>305.780488</td>\n",
       "      <td>7224</td>\n",
       "    </tr>\n",
       "    <tr>\n",
       "      <th>7</th>\n",
       "      <td>5640</td>\n",
       "      <td>1427.032007</td>\n",
       "      <td>1793245</td>\n",
       "      <td>11.15367</td>\n",
       "      <td>0.097</td>\n",
       "      <td>1935</td>\n",
       "      <td>279.658537</td>\n",
       "      <td>6270</td>\n",
       "    </tr>\n",
       "    <tr>\n",
       "      <th>8</th>\n",
       "      <td>6328</td>\n",
       "      <td>1602.504302</td>\n",
       "      <td>2001408</td>\n",
       "      <td>25.13466</td>\n",
       "      <td>0.148</td>\n",
       "      <td>1981</td>\n",
       "      <td>300.073171</td>\n",
       "      <td>7219</td>\n",
       "    </tr>\n",
       "    <tr>\n",
       "      <th>9</th>\n",
       "      <td>6618</td>\n",
       "      <td>1422.601095</td>\n",
       "      <td>2271829</td>\n",
       "      <td>24.34180</td>\n",
       "      <td>0.148</td>\n",
       "      <td>1970</td>\n",
       "      <td>312.365854</td>\n",
       "      <td>7454</td>\n",
       "    </tr>\n",
       "    <tr>\n",
       "      <th>10</th>\n",
       "      <td>7406</td>\n",
       "      <td>1718.647038</td>\n",
       "      <td>2462771</td>\n",
       "      <td>26.04120</td>\n",
       "      <td>0.211</td>\n",
       "      <td>2165</td>\n",
       "      <td>330.585366</td>\n",
       "      <td>8317</td>\n",
       "    </tr>\n",
       "    <tr>\n",
       "      <th>11</th>\n",
       "      <td>7978</td>\n",
       "      <td>2062.806618</td>\n",
       "      <td>2716885</td>\n",
       "      <td>31.60079</td>\n",
       "      <td>0.245</td>\n",
       "      <td>2170</td>\n",
       "      <td>365.487805</td>\n",
       "      <td>9187</td>\n",
       "    </tr>\n",
       "    <tr>\n",
       "      <th>12</th>\n",
       "      <td>8766</td>\n",
       "      <td>2135.398102</td>\n",
       "      <td>3027347</td>\n",
       "      <td>29.51155</td>\n",
       "      <td>0.232</td>\n",
       "      <td>2280</td>\n",
       "      <td>379.536585</td>\n",
       "      <td>9258</td>\n",
       "    </tr>\n",
       "    <tr>\n",
       "      <th>13</th>\n",
       "      <td>9416</td>\n",
       "      <td>2394.137133</td>\n",
       "      <td>3129841</td>\n",
       "      <td>29.38845</td>\n",
       "      <td>0.307</td>\n",
       "      <td>2831</td>\n",
       "      <td>426.512195</td>\n",
       "      <td>10583</td>\n",
       "    </tr>\n",
       "    <tr>\n",
       "      <th>14</th>\n",
       "      <td>9368</td>\n",
       "      <td>2010.061511</td>\n",
       "      <td>3571727</td>\n",
       "      <td>16.35477</td>\n",
       "      <td>0.464</td>\n",
       "      <td>2831</td>\n",
       "      <td>432.439024</td>\n",
       "      <td>10695</td>\n",
       "    </tr>\n",
       "    <tr>\n",
       "      <th>15</th>\n",
       "      <td>8659</td>\n",
       "      <td>1796.601078</td>\n",
       "      <td>4078055</td>\n",
       "      <td>28.80457</td>\n",
       "      <td>0.541</td>\n",
       "      <td>3656</td>\n",
       "      <td>424.317073</td>\n",
       "      <td>10625</td>\n",
       "    </tr>\n",
       "    <tr>\n",
       "      <th>16</th>\n",
       "      <td>10546</td>\n",
       "      <td>1971.957073</td>\n",
       "      <td>4170096</td>\n",
       "      <td>18.49264</td>\n",
       "      <td>0.817</td>\n",
       "      <td>3795</td>\n",
       "      <td>456.146342</td>\n",
       "      <td>12528</td>\n",
       "    </tr>\n",
       "    <tr>\n",
       "      <th>17</th>\n",
       "      <td>11165</td>\n",
       "      <td>2074.175443</td>\n",
       "      <td>4116662</td>\n",
       "      <td>47.28589</td>\n",
       "      <td>0.798</td>\n",
       "      <td>4388</td>\n",
       "      <td>481.170732</td>\n",
       "      <td>13036</td>\n",
       "    </tr>\n",
       "    <tr>\n",
       "      <th>18</th>\n",
       "      <td>12379</td>\n",
       "      <td>2260.113451</td>\n",
       "      <td>4395945</td>\n",
       "      <td>38.95218</td>\n",
       "      <td>0.705</td>\n",
       "      <td>4889</td>\n",
       "      <td>554.268293</td>\n",
       "      <td>14401</td>\n",
       "    </tr>\n",
       "    <tr>\n",
       "      <th>19</th>\n",
       "      <td>13183</td>\n",
       "      <td>2247.149748</td>\n",
       "      <td>4740148</td>\n",
       "      <td>40.54378</td>\n",
       "      <td>0.716</td>\n",
       "      <td>5172</td>\n",
       "      <td>615.512195</td>\n",
       "      <td>15232</td>\n",
       "    </tr>\n",
       "    <tr>\n",
       "      <th>20</th>\n",
       "      <td>14524</td>\n",
       "      <td>2205.526086</td>\n",
       "      <td>5011284</td>\n",
       "      <td>34.81581</td>\n",
       "      <td>0.747</td>\n",
       "      <td>5288</td>\n",
       "      <td>678.292683</td>\n",
       "      <td>16531</td>\n",
       "    </tr>\n",
       "  </tbody>\n",
       "</table>\n",
       "</div>"
      ],
      "text/plain": [
       "    Purchases (GWh)  GDP per Capita  Customers  Informal sector (%)  \\\n",
       "0              4319      548.258047     932598              9.87344   \n",
       "1              4530      570.639605    1022847             11.00198   \n",
       "2              4709      646.038719    1109357              8.71163   \n",
       "3              4922      780.267565    1245935              3.04414   \n",
       "4              5291      885.637507    1400258             17.07084   \n",
       "5              5546     1043.557511    1526736             23.43980   \n",
       "6              5760     1207.207961    1643786             28.91935   \n",
       "7              5640     1427.032007    1793245             11.15367   \n",
       "8              6328     1602.504302    2001408             25.13466   \n",
       "9              6618     1422.601095    2271829             24.34180   \n",
       "10             7406     1718.647038    2462771             26.04120   \n",
       "11             7978     2062.806618    2716885             31.60079   \n",
       "12             8766     2135.398102    3027347             29.51155   \n",
       "13             9416     2394.137133    3129841             29.38845   \n",
       "14             9368     2010.061511    3571727             16.35477   \n",
       "15             8659     1796.601078    4078055             28.80457   \n",
       "16            10546     1971.957073    4170096             18.49264   \n",
       "17            11165     2074.175443    4116662             47.28589   \n",
       "18            12379     2260.113451    4395945             38.95218   \n",
       "19            13183     2247.149748    4740148             40.54378   \n",
       "20            14524     2205.526086    5011284             34.81581   \n",
       "\n",
       "    price (cedi)  Installed Capacity (MW)  reserve margin (MW)  \\\n",
       "0          0.017                     1652           254.853658   \n",
       "1          0.034                     1652           261.219512   \n",
       "2          0.065                     1652           269.341463   \n",
       "3          0.071                     1652           249.146342   \n",
       "4          0.074                     1730           230.268293   \n",
       "5          0.073                     1730           290.853658   \n",
       "6          0.078                     1730           305.780488   \n",
       "7          0.097                     1935           279.658537   \n",
       "8          0.148                     1981           300.073171   \n",
       "9          0.148                     1970           312.365854   \n",
       "10         0.211                     2165           330.585366   \n",
       "11         0.245                     2170           365.487805   \n",
       "12         0.232                     2280           379.536585   \n",
       "13         0.307                     2831           426.512195   \n",
       "14         0.464                     2831           432.439024   \n",
       "15         0.541                     3656           424.317073   \n",
       "16         0.817                     3795           456.146342   \n",
       "17         0.798                     4388           481.170732   \n",
       "18         0.705                     4889           554.268293   \n",
       "19         0.716                     5172           615.512195   \n",
       "20         0.747                     5288           678.292683   \n",
       "\n",
       "    Suppressed demand  \n",
       "0                6889  \n",
       "1                7128  \n",
       "2                6773  \n",
       "3                5187  \n",
       "4                5299  \n",
       "5                5932  \n",
       "6                7224  \n",
       "7                6270  \n",
       "8                7219  \n",
       "9                7454  \n",
       "10               8317  \n",
       "11               9187  \n",
       "12               9258  \n",
       "13              10583  \n",
       "14              10695  \n",
       "15              10625  \n",
       "16              12528  \n",
       "17              13036  \n",
       "18              14401  \n",
       "19              15232  \n",
       "20              16531  "
      ]
     },
     "execution_count": 11,
     "metadata": {},
     "output_type": "execute_result"
    }
   ],
   "source": [
    "improved_data"
   ]
  },
  {
   "cell_type": "markdown",
   "id": "d0bed7ea",
   "metadata": {},
   "source": [
    "## Developing a Neural Network"
   ]
  },
  {
   "cell_type": "markdown",
   "id": "5112f6c6",
   "metadata": {},
   "source": [
    "#### Using SKlearn' ML library"
   ]
  },
  {
   "cell_type": "code",
   "execution_count": 12,
   "id": "995a6b0d",
   "metadata": {},
   "outputs": [],
   "source": [
    "# Importing the library\n",
    "from sklearn.neural_network import MLPRegressor\n",
    "from sklearn.model_selection import train_test_split\n",
    "from sklearn.metrics import mean_squared_error"
   ]
  },
  {
   "cell_type": "code",
   "execution_count": 13,
   "id": "f87a8eb2",
   "metadata": {},
   "outputs": [],
   "source": [
    "# Splitting ghe data into independent and dependent variables\n",
    "X = improved_data.iloc[:, :-1].values\n",
    "y = improved_data.iloc[:, 7].values"
   ]
  },
  {
   "cell_type": "code",
   "execution_count": 14,
   "id": "6e5673e5",
   "metadata": {},
   "outputs": [],
   "source": [
    "# Splitting the data into training and test sets\n",
    "X_train, X_test, y_train, y_test = train_test_split(X, y, random_state=1)"
   ]
  },
  {
   "cell_type": "markdown",
   "id": "f56d4e07",
   "metadata": {},
   "source": [
    "It is important to scale the data because Multi-layer perceptron is sensitive to feature scaling"
   ]
  },
  {
   "cell_type": "code",
   "execution_count": 15,
   "id": "6c6772f1",
   "metadata": {},
   "outputs": [],
   "source": [
    "# Scaling the dataset\n",
    "from sklearn.preprocessing import StandardScaler\n",
    "scaler = StandardScaler()\n",
    "scaler.fit(X_train)\n",
    "X_train = scaler.transform(X_train)\n",
    "X_test = scaler.transform(X_test)"
   ]
  },
  {
   "cell_type": "code",
   "execution_count": 16,
   "id": "932b9eb6",
   "metadata": {},
   "outputs": [
    {
     "data": {
      "text/plain": [
       "array([[ 0.365,  0.483,  1.273,  0.616,  1.082,  0.958,  0.488],\n",
       "       [-0.045,  0.36 ,  0.023,  0.326, -0.159, -0.283, -0.243],\n",
       "       [-0.857, -1.125, -0.919, -2.087, -0.685, -0.709, -0.878],\n",
       "       [ 1.58 ,  1.217,  1.519,  1.681,  1.699,  1.984,  1.502],\n",
       "       [ 1.183,  0.922,  1.303,  2.555,  2.049,  1.567,  0.932],\n",
       "       [ 0.596,  0.821,  0.881, -0.69 ,  0.793,  0.272,  0.552]])"
      ]
     },
     "execution_count": 16,
     "metadata": {},
     "output_type": "execute_result"
    }
   ],
   "source": [
    "X_test"
   ]
  },
  {
   "cell_type": "code",
   "execution_count": 17,
   "id": "932d1c6d",
   "metadata": {},
   "outputs": [
    {
     "data": {
      "text/plain": [
       "array([12866.648,  6988.488,  5937.131, 13905.051, 11514.543, 11519.127])"
      ]
     },
     "execution_count": 17,
     "metadata": {},
     "output_type": "execute_result"
    }
   ],
   "source": [
    "# Building the Regressor\n",
    "regr = MLPRegressor(hidden_layer_sizes=(100,) ,random_state=1, max_iter=100000, activation='relu').fit(X_train, y_train)\n",
    "y_pred = regr.predict(X_test)\n",
    "y_pred\n",
    "# The output is what was predicted by the model."
   ]
  },
  {
   "cell_type": "code",
   "execution_count": 18,
   "id": "43cc3dde",
   "metadata": {
    "scrolled": true
   },
   "outputs": [
    {
     "data": {
      "text/plain": [
       "array([10625,  8317,  5187, 14401, 13036, 10695], dtype=int64)"
      ]
     },
     "execution_count": 18,
     "metadata": {},
     "output_type": "execute_result"
    }
   ],
   "source": [
    "y_test\n",
    "\n",
    "# This is what was expected. "
   ]
  },
  {
   "cell_type": "code",
   "execution_count": 19,
   "id": "28f07eb4",
   "metadata": {},
   "outputs": [
    {
     "data": {
      "text/plain": [
       "1765434.4174831472"
      ]
     },
     "execution_count": 19,
     "metadata": {},
     "output_type": "execute_result"
    }
   ],
   "source": [
    "mean_squared_error(y_test, y_pred)"
   ]
  },
  {
   "cell_type": "code",
   "execution_count": 20,
   "id": "abd5a3d8",
   "metadata": {},
   "outputs": [
    {
     "data": {
      "text/plain": [
       "0.8060146387704799"
      ]
     },
     "execution_count": 20,
     "metadata": {},
     "output_type": "execute_result"
    }
   ],
   "source": [
    "# r_squared score\n",
    "regr.score(X_test, y_test)"
   ]
  },
  {
   "cell_type": "code",
   "execution_count": 21,
   "id": "84a06174",
   "metadata": {
    "scrolled": true
   },
   "outputs": [
    {
     "data": {
      "image/png": "[encoded data removed]",
      "text/plain": [
       "<Figure size 432x288 with 1 Axes>"
      ]
     },
     "metadata": {
      "needs_background": "light"
     },
     "output_type": "display_data"
    }
   ],
   "source": [
    "plt.plot(X_test, y_test, 'bs')\n",
    "plt.show()"
   ]
  },
  {
   "cell_type": "code",
   "execution_count": 22,
   "id": "8777b17a",
   "metadata": {},
   "outputs": [
    {
     "data": {
      "text/plain": [
       "array([-2241.648,  1328.512,  -750.131,   495.949,  1521.457,  -824.127])"
      ]
     },
     "execution_count": 22,
     "metadata": {},
     "output_type": "execute_result"
    }
   ],
   "source": [
    "y_diff = y_test - y_pred\n",
    "y_diff"
   ]
  },
  {
   "cell_type": "markdown",
   "id": "bfb1c016",
   "metadata": {},
   "source": [
    "#### Developing an NN model with Tensorflow"
   ]
  },
  {
   "cell_type": "code",
   "execution_count": null,
   "id": "b7b5cda0",
   "metadata": {},
   "outputs": [],
   "source": [
    "# Importing tensorflow libraries\n",
    "import tensorflow as tf\n",
    "\n",
    "from tensorflow import keras\n",
    "from tensorflow.keras import layers\n",
    "\n",
    "print(tf.__version__)"
   ]
  },
  {
   "cell_type": "code",
   "execution_count": null,
   "id": "088b3ecf",
   "metadata": {},
   "outputs": [],
   "source": [
    "# Splitting the data into training and test sets\n",
    "train_dataset = improved_data.sample(frac=0.8, random_state=0)\n",
    "test_dataset = improved_data.drop(train_dataset.index)"
   ]
  },
  {
   "cell_type": "code",
   "execution_count": null,
   "id": "8cfc1e2e",
   "metadata": {},
   "outputs": [],
   "source": [
    "train_dataset"
   ]
  },
  {
   "cell_type": "code",
   "execution_count": null,
   "id": "2d0e0f56",
   "metadata": {},
   "outputs": [],
   "source": [
    "# Inspecting the data\n",
    "sns.pairplot(train_dataset[['Purchases (GWh)', 'GDP per Capita', 'Customers', \n",
    "                           'Informal sector (%)', 'price (cedi)', 'Installed Capacity (MW)',\n",
    "                           'reserve margin (MW)', 'Suppressed demand']], diag_kind='kde')"
   ]
  },
  {
   "cell_type": "code",
   "execution_count": null,
   "id": "1c341c67",
   "metadata": {},
   "outputs": [],
   "source": [
    "# Selecting the training and testing labels\n",
    "train_features = train_dataset.copy()\n",
    "test_features = test_dataset.copy()\n",
    "\n",
    "train_labels = train_features.pop('Suppressed demand')\n",
    "test_labels = test_features.pop('Suppressed demand')"
   ]
  },
  {
   "cell_type": "markdown",
   "id": "523d2dab",
   "metadata": {},
   "source": [
    "##### Normalizing the data"
   ]
  },
  {
   "cell_type": "code",
   "execution_count": null,
   "id": "0014ec63",
   "metadata": {},
   "outputs": [],
   "source": [
    "normalizer = tf.keras.layers.Normalization(axis=-1)"
   ]
  },
  {
   "cell_type": "code",
   "execution_count": null,
   "id": "13d7bfdd",
   "metadata": {},
   "outputs": [],
   "source": [
    "#Fitting the state of the preprocessing layer to the data\n",
    "normalizer.adapt(np.array(train_features))"
   ]
  },
  {
   "cell_type": "code",
   "execution_count": null,
   "id": "8d47e1e3",
   "metadata": {},
   "outputs": [],
   "source": [
    "print(normalizer.mean.numpy())"
   ]
  },
  {
   "cell_type": "code",
   "execution_count": null,
   "id": "7b4116c4",
   "metadata": {},
   "outputs": [],
   "source": [
    "print('Normalized:', normalizer(train_features).numpy())"
   ]
  },
  {
   "cell_type": "markdown",
   "id": "55f6c8d2",
   "metadata": {},
   "source": [
    "#### Building the regressor"
   ]
  },
  {
   "cell_type": "code",
   "execution_count": null,
   "id": "da8f7a10",
   "metadata": {},
   "outputs": [],
   "source": [
    "# The model \n",
    "def build_and_compile_model(norm):\n",
    "  model = keras.Sequential([\n",
    "      norm,\n",
    "      layers.Dense(64, activation='relu'),\n",
    "      layers.Dense(64, activation='relu'),\n",
    "      layers.Dense(1)\n",
    "  ])\n",
    "\n",
    "  model.compile(loss='mean_absolute_error',\n",
    "                optimizer=tf.keras.optimizers.Adam(0.001))\n",
    "  return model"
   ]
  },
  {
   "cell_type": "code",
   "execution_count": null,
   "id": "640384a7",
   "metadata": {},
   "outputs": [],
   "source": [
    "def plot_loss(history):\n",
    "  plt.plot(history.history['loss'], label='loss')\n",
    "  plt.plot(history.history['val_loss'], label='val_loss')\n",
    "  plt.ylim([0, 10])\n",
    "  plt.xlabel('Epoch')\n",
    "  plt.ylabel('Error [Suppressed demand]')\n",
    "  plt.legend()\n",
    "  plt.grid(True)"
   ]
  },
  {
   "cell_type": "code",
   "execution_count": null,
   "id": "834de3ee",
   "metadata": {},
   "outputs": [],
   "source": [
    "dnn_model = build_and_compile_model(normalizer)\n",
    "dnn_model.summary()"
   ]
  },
  {
   "cell_type": "code",
   "execution_count": null,
   "id": "29edd3a1",
   "metadata": {},
   "outputs": [],
   "source": [
    "# Train the model with Keras\n",
    "%%time\n",
    "history = dnn_model.fit(\n",
    "    train_features,\n",
    "    train_labels,\n",
    "    validation_split=0.2,\n",
    "    verbose=0, epochs=100)"
   ]
  },
  {
   "cell_type": "code",
   "execution_count": null,
   "id": "5abd2cc1",
   "metadata": {},
   "outputs": [],
   "source": [
    "plot_loss(history)"
   ]
  },
  {
   "cell_type": "code",
   "execution_count": null,
   "id": "174b3931",
   "metadata": {},
   "outputs": [],
   "source": []
  }
 ],
 "metadata": {
  "kernelspec": {
   "display_name": "Python 3 (ipykernel)",
   "language": "python",
   "name": "python3"
  },
  "language_info": {
   "codemirror_mode": {
    "name": "ipython",
    "version": 3
   },
   "file_extension": ".py",
   "mimetype": "text/x-python",
   "name": "python",
   "nbconvert_exporter": "python",
   "pygments_lexer": "ipython3",
   "version": "3.9.12"
  }
 },
 "nbformat": 4,
 "nbformat_minor": 5
}
